{
 "cells": [
  {
   "cell_type": "code",
   "execution_count": 1,
   "metadata": {
    "collapsed": false
   },
   "outputs": [
    {
     "name": "stderr",
     "output_type": "stream",
     "text": [
      "C:\\Users\\Xiaowen\\Anaconda3\\envs\\tensorflow\\lib\\site-packages\\requests\\__init__.py:91: RequestsDependencyWarning: urllib3 (1.20) or chardet (3.0.4) doesn't match a supported version!\n",
      "  RequestsDependencyWarning)\n"
     ]
    }
   ],
   "source": [
    "import numpy as np\n",
    "from sklearn.cluster import MiniBatchKMeans\n",
    "from sklearn.cluster import KMeans\n",
    "import gensim\n",
    "import pandas as pd\n",
    "from sklearn.metrics import accuracy_score\n",
    "from sklearn.metrics import precision_score"
   ]
  },
  {
   "cell_type": "code",
   "execution_count": 3,
   "metadata": {
    "collapsed": false
   },
   "outputs": [],
   "source": [
    "data_path = './dataset/'\n",
    "dataset = 'net_aminer_homo'\n",
    "\n",
    "name_label_dict = {}\n",
    "with open('8area_label.txt') as f:\n",
    "    lines = f.readlines()\n",
    "    for line in lines:\n",
    "        name,label = line.split(' ')\n",
    "        name_label_dict[name] = int(label.strip())\n",
    "        \n",
    "id_name_dict = {}\n",
    "with open(data_path + dataset + '/id_author.txt') as f:\n",
    "    lines = f.readlines()\n",
    "    for line in lines:\n",
    "        a_id,a_name = line.replace('\\n','').split(' ')\n",
    "        id_name_dict[a_id] = a_name"
   ]
  },
  {
   "cell_type": "code",
   "execution_count": 4,
   "metadata": {
    "collapsed": false
   },
   "outputs": [
    {
     "name": "stderr",
     "output_type": "stream",
     "text": [
      "C:\\Users\\Xiaowen\\Anaconda3\\envs\\tensorflow\\lib\\site-packages\\ipykernel_launcher.py:3: DeprecationWarning: Call to deprecated `__getitem__` (Method will be removed in 4.0.0, use self.wv.__getitem__() instead).\n",
      "  This is separate from the ipykernel package so we can avoid doing imports until\n",
      "C:\\Users\\Xiaowen\\Anaconda3\\envs\\tensorflow\\lib\\site-packages\\ipykernel_launcher.py:7: DeprecationWarning: Call to deprecated `__getitem__` (Method will be removed in 4.0.0, use self.wv.__getitem__() instead).\n",
      "  import sys\n"
     ]
    }
   ],
   "source": [
    "homo_model = gensim.models.Word2Vec.load('net_aminer_homo_model')\n",
    "indices_homo = sorted(homo_model.wv.vocab)\n",
    "X_homo = homo_model[indices_homo]\n",
    "\n",
    "part_model = gensim.models.Word2Vec.load('net_aminer_part_model')\n",
    "indices_part = sorted(part_model.wv.vocab)\n",
    "X_part = part_model[indices_part]"
   ]
  },
  {
   "cell_type": "code",
   "execution_count": 5,
   "metadata": {
    "collapsed": false
   },
   "outputs": [
    {
     "name": "stdout",
     "output_type": "stream",
     "text": [
      "(42157, 128)\n",
      "(42157, 128)\n"
     ]
    }
   ],
   "source": [
    "print(X_homo.shape)\n",
    "print(X_part.shape)"
   ]
  },
  {
   "cell_type": "code",
   "execution_count": 68,
   "metadata": {
    "collapsed": true
   },
   "outputs": [],
   "source": [
    "def cal_acc(indices,X):\n",
    "    idx_labels = []\n",
    "    for idx,a in enumerate(indices):\n",
    "        name = id_name_dict[a]\n",
    "        label = name_label_dict[name]\n",
    "        idx_labels.append(label)\n",
    "    kmeans = KMeans(n_clusters=2, random_state=0).fit(X)\n",
    "\n",
    "    clus_dict = {'author_id':indices,'cluster':kmeans.labels_,'label':idx_labels} \n",
    "    clus_df = pd.DataFrame(data=clus_dict)\n",
    "\n",
    "    class0_df = clus_df.loc[clus_df['cluster'] == 0]\n",
    "    class1_df = clus_df.loc[clus_df['cluster'] == 1]\n",
    "\n",
    "    votes0,values0 = np.unique(class0_df['label'].values, return_counts=True)\n",
    "    class0_label = votes0[np.argmax(values0)]\n",
    "\n",
    "    votes1,values1 = np.unique(class1_df['label'].values, return_counts=True)\n",
    "    class1_label = votes1[np.argmax(values1)]\n",
    "    \n",
    "    clus_df['pred'] = -1\n",
    "    \n",
    "    clus_df.loc[clus_df['cluster'] == 0,'pred'] = class0_label\n",
    "    clus_df.loc[clus_df['cluster'] == 1,'pred'] = class1_label\n",
    "\n",
    "    acc = accuracy_score(clus_df['label'].values, clus_df['pred'].values)\n",
    "    print(\"accracy is: %.3f\"%acc)\n",
    "    return clus_df"
   ]
  },
  {
   "cell_type": "code",
   "execution_count": 69,
   "metadata": {
    "collapsed": false
   },
   "outputs": [
    {
     "name": "stdout",
     "output_type": "stream",
     "text": [
      "result for homo:\n",
      "accracy is: 0.672\n",
      "\n",
      "result for part:\n",
      "accracy is: 0.671\n"
     ]
    }
   ],
   "source": [
    "print(\"result for homo:\")\n",
    "homo_df = cal_acc(indices_homo,X_homo)\n",
    "print()\n",
    "print(\"result for part:\")\n",
    "part_df = cal_acc(indices_part,X_part)"
   ]
  },
  {
   "cell_type": "code",
   "execution_count": null,
   "metadata": {
    "collapsed": true
   },
   "outputs": [],
   "source": []
  },
  {
   "cell_type": "markdown",
   "metadata": {},
   "source": [
    "### Top100 similar author in the same area"
   ]
  },
  {
   "cell_type": "code",
   "execution_count": 70,
   "metadata": {
    "collapsed": true
   },
   "outputs": [],
   "source": [
    "paper_author = pd.read_csv(data_path + dataset + '/paper_author.txt', header=None, sep=' ')\n",
    "paper_author.columns = ['paper_id', 'author_id']"
   ]
  },
  {
   "cell_type": "code",
   "execution_count": 119,
   "metadata": {
    "collapsed": false
   },
   "outputs": [],
   "source": [
    "author_count = paper_author.groupby('author_id',as_index=False).count()"
   ]
  },
  {
   "cell_type": "code",
   "execution_count": 120,
   "metadata": {
    "collapsed": true
   },
   "outputs": [],
   "source": [
    "author_count = author_count.sort_values(by=['paper_id'],ascending=False)"
   ]
  },
  {
   "cell_type": "code",
   "execution_count": 133,
   "metadata": {
    "collapsed": false
   },
   "outputs": [
    {
     "data": {
      "text/html": [
       "<div>\n",
       "<style scoped>\n",
       "    .dataframe tbody tr th:only-of-type {\n",
       "        vertical-align: middle;\n",
       "    }\n",
       "\n",
       "    .dataframe tbody tr th {\n",
       "        vertical-align: top;\n",
       "    }\n",
       "\n",
       "    .dataframe thead th {\n",
       "        text-align: right;\n",
       "    }\n",
       "</style>\n",
       "<table border=\"1\" class=\"dataframe\">\n",
       "  <thead>\n",
       "    <tr style=\"text-align: right;\">\n",
       "      <th></th>\n",
       "      <th>index</th>\n",
       "      <th>author_id</th>\n",
       "      <th>paper_id</th>\n",
       "    </tr>\n",
       "  </thead>\n",
       "  <tbody>\n",
       "    <tr>\n",
       "      <th>0</th>\n",
       "      <td>39497</td>\n",
       "      <td>39497</td>\n",
       "      <td>1046</td>\n",
       "    </tr>\n",
       "    <tr>\n",
       "      <th>1</th>\n",
       "      <td>23781</td>\n",
       "      <td>23781</td>\n",
       "      <td>836</td>\n",
       "    </tr>\n",
       "    <tr>\n",
       "      <th>2</th>\n",
       "      <td>21326</td>\n",
       "      <td>21326</td>\n",
       "      <td>796</td>\n",
       "    </tr>\n",
       "    <tr>\n",
       "      <th>3</th>\n",
       "      <td>33435</td>\n",
       "      <td>33435</td>\n",
       "      <td>796</td>\n",
       "    </tr>\n",
       "    <tr>\n",
       "      <th>4</th>\n",
       "      <td>39067</td>\n",
       "      <td>39067</td>\n",
       "      <td>766</td>\n",
       "    </tr>\n",
       "  </tbody>\n",
       "</table>\n",
       "</div>"
      ],
      "text/plain": [
       "   index  author_id  paper_id\n",
       "0  39497      39497      1046\n",
       "1  23781      23781       836\n",
       "2  21326      21326       796\n",
       "3  33435      33435       796\n",
       "4  39067      39067       766"
      ]
     },
     "execution_count": 133,
     "metadata": {},
     "output_type": "execute_result"
    }
   ],
   "source": [
    "author_count = author_count.reset_index()\n",
    "author_count.head()"
   ]
  },
  {
   "cell_type": "code",
   "execution_count": 157,
   "metadata": {
    "collapsed": true
   },
   "outputs": [],
   "source": [
    "def similar_domain(model,indices,target_authors,topn = 100):\n",
    "    idx_labels = []\n",
    "    for idx,a in enumerate(indices):\n",
    "        name = id_name_dict[a]\n",
    "        label = name_label_dict[name]\n",
    "        idx_labels.append(label)\n",
    "    id_dict = {'author_id':indices,'label':idx_labels}\n",
    "    author_df = pd.DataFrame(data=id_dict)\n",
    "    \n",
    "    for target_author in target_authors:\n",
    "        rank = author_count.index[author_count['author_id'] == target_author].tolist()[0]\n",
    "        print(\"Examining for the %d-th author %d\"%(rank,target_author))\n",
    "        target_author = str(target_author)\n",
    "        target_labels =author_df.loc[author_df['author_id'] == target_author]['label'].values\n",
    "        if target_labels.shape[0] == 0:\n",
    "            print(\"*** target author not found ***\")\n",
    "            print()\n",
    "            continue\n",
    "        target_label = target_labels[0]\n",
    "        top100 = np.array(model.wv.most_similar(positive=[target_author],\\\n",
    "                                                topn=topn, restrict_vocab=None, indexer=None))[:,0]\n",
    "        sel_author = author_df.loc[author_df['author_id'].isin(top100)]\n",
    "        same_domain = sel_author.loc[sel_author['label'] == target_label]\n",
    "        print('%d/%d authors are in the same domain'%(same_domain.shape[0],topn))\n",
    "        print()"
   ]
  },
  {
   "cell_type": "code",
   "execution_count": 158,
   "metadata": {
    "collapsed": false
   },
   "outputs": [
    {
     "name": "stdout",
     "output_type": "stream",
     "text": [
      "examing homo model\n",
      "Examining for the 0-th author 39497\n",
      "98/100 authors are in the same domain\n",
      "\n",
      "Examining for the 1-th author 23781\n",
      "76/100 authors are in the same domain\n",
      "\n",
      "Examining for the 2-th author 21326\n",
      "85/100 authors are in the same domain\n",
      "\n",
      "Examining for the 3-th author 33435\n",
      "86/100 authors are in the same domain\n",
      "\n",
      "Examining for the 4-th author 39067\n",
      "96/100 authors are in the same domain\n",
      "\n"
     ]
    }
   ],
   "source": [
    "print(\"examing homo model\")\n",
    "similar_domain(homo_model,indices_homo,author_count['author_id'].values[:5])"
   ]
  },
  {
   "cell_type": "code",
   "execution_count": 160,
   "metadata": {
    "collapsed": false
   },
   "outputs": [
    {
     "name": "stdout",
     "output_type": "stream",
     "text": [
      "Examining for the 0-th author 39497\n",
      "100/100 authors are in the same domain\n",
      "\n",
      "Examining for the 1-th author 23781\n",
      "77/100 authors are in the same domain\n",
      "\n",
      "Examining for the 2-th author 21326\n",
      "78/100 authors are in the same domain\n",
      "\n",
      "Examining for the 3-th author 33435\n",
      "84/100 authors are in the same domain\n",
      "\n",
      "Examining for the 4-th author 39067\n",
      "87/100 authors are in the same domain\n",
      "\n"
     ]
    }
   ],
   "source": [
    "similar_domain(part_model,indices_part,author_count['author_id'].values[:5])"
   ]
  },
  {
   "cell_type": "code",
   "execution_count": 159,
   "metadata": {
    "collapsed": false
   },
   "outputs": [
    {
     "name": "stdout",
     "output_type": "stream",
     "text": [
      "Examining for the 43682-th author 30241\n",
      "16/100 authors are in the same domain\n",
      "\n",
      "Examining for the 43683-th author 30242\n",
      "79/100 authors are in the same domain\n",
      "\n",
      "Examining for the 43684-th author 4009\n",
      "*** target author not found ***\n",
      "\n",
      "Examining for the 43685-th author 18270\n",
      "78/100 authors are in the same domain\n",
      "\n",
      "Examining for the 43686-th author 34068\n",
      "96/100 authors are in the same domain\n",
      "\n"
     ]
    }
   ],
   "source": [
    "similar_domain(homo_model,indices_homo,author_count['author_id'].values[-5:])"
   ]
  },
  {
   "cell_type": "code",
   "execution_count": null,
   "metadata": {
    "collapsed": true
   },
   "outputs": [],
   "source": []
  },
  {
   "cell_type": "code",
   "execution_count": null,
   "metadata": {
    "collapsed": true
   },
   "outputs": [],
   "source": []
  },
  {
   "cell_type": "code",
   "execution_count": null,
   "metadata": {
    "collapsed": true
   },
   "outputs": [],
   "source": []
  },
  {
   "cell_type": "code",
   "execution_count": null,
   "metadata": {
    "collapsed": true
   },
   "outputs": [],
   "source": []
  }
 ],
 "metadata": {
  "kernelspec": {
   "display_name": "Python tensorflow",
   "language": "python",
   "name": "tensorflow"
  },
  "language_info": {
   "codemirror_mode": {
    "name": "ipython",
    "version": 3
   },
   "file_extension": ".py",
   "mimetype": "text/x-python",
   "name": "python",
   "nbconvert_exporter": "python",
   "pygments_lexer": "ipython3",
   "version": "3.5.5"
  }
 },
 "nbformat": 4,
 "nbformat_minor": 0
}
